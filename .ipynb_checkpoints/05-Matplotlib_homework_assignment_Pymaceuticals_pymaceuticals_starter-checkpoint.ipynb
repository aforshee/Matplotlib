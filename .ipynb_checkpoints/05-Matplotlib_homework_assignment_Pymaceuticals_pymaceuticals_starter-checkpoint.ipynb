{
 "cells": [
  {
   "cell_type": "markdown",
   "metadata": {},
   "source": [
    "## Observations and Insights"
   ]
  },
  {
   "cell_type": "markdown",
   "metadata": {},
   "source": []
  },
  {
   "cell_type": "markdown",
   "metadata": {},
   "source": [
    "## Dependencies and starter code"
   ]
  },
  {
   "cell_type": "code",
   "execution_count": 1,
   "metadata": {},
   "outputs": [],
   "source": [
    "# Dependencies and Setup\n",
    "import matplotlib.pyplot as plt\n",
    "import pandas as pd\n",
    "import scipy.stats as st\n",
    "\n",
    "# Study data files\n",
    "mouse_metadata = \"05-Matplotlib_homework_assignment_Pymaceuticals_data_Mouse_metadata.csv\"\n",
    "study_results = \"05-Matplotlib_homework_assignment_Pymaceuticals_data_Study_results.csv\"\n",
    "\n",
    "# Read the mouse data and the study results\n",
    "mouse_metadata = pd.read_csv(mouse_metadata)\n",
    "study_results = pd.read_csv(study_results)\n",
    "\n",
    "# Combine the data into a single dataset\n",
    "combined_data = pd.merge(mouse_metadata, study_results,\n",
    "                                 how='inner', on='Mouse ID')"
   ]
  },
  {
   "cell_type": "code",
   "execution_count": 47,
   "metadata": {},
   "outputs": [
    {
     "data": {
      "text/html": [
       "<div>\n",
       "<style scoped>\n",
       "    .dataframe tbody tr th:only-of-type {\n",
       "        vertical-align: middle;\n",
       "    }\n",
       "\n",
       "    .dataframe tbody tr th {\n",
       "        vertical-align: top;\n",
       "    }\n",
       "\n",
       "    .dataframe thead th {\n",
       "        text-align: right;\n",
       "    }\n",
       "</style>\n",
       "<table border=\"1\" class=\"dataframe\">\n",
       "  <thead>\n",
       "    <tr style=\"text-align: right;\">\n",
       "      <th></th>\n",
       "      <th>Mouse ID</th>\n",
       "      <th>Drug Regimen</th>\n",
       "      <th>Sex</th>\n",
       "      <th>Age_months</th>\n",
       "      <th>Weight (g)</th>\n",
       "      <th>Timepoint</th>\n",
       "      <th>Tumor Volume (mm3)</th>\n",
       "      <th>Metastatic Sites</th>\n",
       "    </tr>\n",
       "  </thead>\n",
       "  <tbody>\n",
       "    <tr>\n",
       "      <td>0</td>\n",
       "      <td>k403</td>\n",
       "      <td>Ramicane</td>\n",
       "      <td>Male</td>\n",
       "      <td>21</td>\n",
       "      <td>16</td>\n",
       "      <td>0</td>\n",
       "      <td>45.000000</td>\n",
       "      <td>0</td>\n",
       "    </tr>\n",
       "    <tr>\n",
       "      <td>1</td>\n",
       "      <td>k403</td>\n",
       "      <td>Ramicane</td>\n",
       "      <td>Male</td>\n",
       "      <td>21</td>\n",
       "      <td>16</td>\n",
       "      <td>5</td>\n",
       "      <td>38.825898</td>\n",
       "      <td>0</td>\n",
       "    </tr>\n",
       "    <tr>\n",
       "      <td>2</td>\n",
       "      <td>k403</td>\n",
       "      <td>Ramicane</td>\n",
       "      <td>Male</td>\n",
       "      <td>21</td>\n",
       "      <td>16</td>\n",
       "      <td>10</td>\n",
       "      <td>35.014271</td>\n",
       "      <td>1</td>\n",
       "    </tr>\n",
       "    <tr>\n",
       "      <td>3</td>\n",
       "      <td>k403</td>\n",
       "      <td>Ramicane</td>\n",
       "      <td>Male</td>\n",
       "      <td>21</td>\n",
       "      <td>16</td>\n",
       "      <td>15</td>\n",
       "      <td>34.223992</td>\n",
       "      <td>1</td>\n",
       "    </tr>\n",
       "    <tr>\n",
       "      <td>4</td>\n",
       "      <td>k403</td>\n",
       "      <td>Ramicane</td>\n",
       "      <td>Male</td>\n",
       "      <td>21</td>\n",
       "      <td>16</td>\n",
       "      <td>20</td>\n",
       "      <td>32.997729</td>\n",
       "      <td>1</td>\n",
       "    </tr>\n",
       "  </tbody>\n",
       "</table>\n",
       "</div>"
      ],
      "text/plain": [
       "  Mouse ID Drug Regimen   Sex  Age_months  Weight (g)  Timepoint  \\\n",
       "0     k403     Ramicane  Male          21          16          0   \n",
       "1     k403     Ramicane  Male          21          16          5   \n",
       "2     k403     Ramicane  Male          21          16         10   \n",
       "3     k403     Ramicane  Male          21          16         15   \n",
       "4     k403     Ramicane  Male          21          16         20   \n",
       "\n",
       "   Tumor Volume (mm3)  Metastatic Sites  \n",
       "0           45.000000                 0  \n",
       "1           38.825898                 0  \n",
       "2           35.014271                 1  \n",
       "3           34.223992                 1  \n",
       "4           32.997729                 1  "
      ]
     },
     "execution_count": 47,
     "metadata": {},
     "output_type": "execute_result"
    }
   ],
   "source": [
    "combined_data.head()"
   ]
  },
  {
   "cell_type": "markdown",
   "metadata": {},
   "source": [
    "## Summary statistics"
   ]
  },
  {
   "cell_type": "code",
   "execution_count": 4,
   "metadata": {},
   "outputs": [
    {
     "data": {
      "text/html": [
       "<div>\n",
       "<style scoped>\n",
       "    .dataframe tbody tr th:only-of-type {\n",
       "        vertical-align: middle;\n",
       "    }\n",
       "\n",
       "    .dataframe tbody tr th {\n",
       "        vertical-align: top;\n",
       "    }\n",
       "\n",
       "    .dataframe thead th {\n",
       "        text-align: right;\n",
       "    }\n",
       "</style>\n",
       "<table border=\"1\" class=\"dataframe\">\n",
       "  <thead>\n",
       "    <tr style=\"text-align: right;\">\n",
       "      <th></th>\n",
       "      <th>Mean</th>\n",
       "      <th>Median</th>\n",
       "      <th>Variance</th>\n",
       "      <th>Standard Deviation</th>\n",
       "      <th>Standard Error of the Mean</th>\n",
       "    </tr>\n",
       "    <tr>\n",
       "      <th>Drug Regimen</th>\n",
       "      <th></th>\n",
       "      <th></th>\n",
       "      <th></th>\n",
       "      <th></th>\n",
       "      <th></th>\n",
       "    </tr>\n",
       "  </thead>\n",
       "  <tbody>\n",
       "    <tr>\n",
       "      <td>Capomulin</td>\n",
       "      <td>40.675741</td>\n",
       "      <td>41.557809</td>\n",
       "      <td>24.947764</td>\n",
       "      <td>4.994774</td>\n",
       "      <td>0.329346</td>\n",
       "    </tr>\n",
       "    <tr>\n",
       "      <td>Ceftamin</td>\n",
       "      <td>52.591172</td>\n",
       "      <td>51.776157</td>\n",
       "      <td>39.290177</td>\n",
       "      <td>6.268188</td>\n",
       "      <td>0.469821</td>\n",
       "    </tr>\n",
       "    <tr>\n",
       "      <td>Infubinol</td>\n",
       "      <td>52.884795</td>\n",
       "      <td>51.820584</td>\n",
       "      <td>43.128684</td>\n",
       "      <td>6.567243</td>\n",
       "      <td>0.492236</td>\n",
       "    </tr>\n",
       "    <tr>\n",
       "      <td>Ketapril</td>\n",
       "      <td>55.235638</td>\n",
       "      <td>53.698743</td>\n",
       "      <td>68.553577</td>\n",
       "      <td>8.279709</td>\n",
       "      <td>0.603860</td>\n",
       "    </tr>\n",
       "    <tr>\n",
       "      <td>Naftisol</td>\n",
       "      <td>54.331565</td>\n",
       "      <td>52.509285</td>\n",
       "      <td>66.173479</td>\n",
       "      <td>8.134708</td>\n",
       "      <td>0.596466</td>\n",
       "    </tr>\n",
       "    <tr>\n",
       "      <td>Placebo</td>\n",
       "      <td>54.033581</td>\n",
       "      <td>52.288934</td>\n",
       "      <td>61.168083</td>\n",
       "      <td>7.821003</td>\n",
       "      <td>0.581331</td>\n",
       "    </tr>\n",
       "    <tr>\n",
       "      <td>Propriva</td>\n",
       "      <td>52.322552</td>\n",
       "      <td>50.854632</td>\n",
       "      <td>42.351070</td>\n",
       "      <td>6.507770</td>\n",
       "      <td>0.512884</td>\n",
       "    </tr>\n",
       "    <tr>\n",
       "      <td>Ramicane</td>\n",
       "      <td>40.216745</td>\n",
       "      <td>40.673236</td>\n",
       "      <td>23.486704</td>\n",
       "      <td>4.846308</td>\n",
       "      <td>0.320955</td>\n",
       "    </tr>\n",
       "    <tr>\n",
       "      <td>Stelasyn</td>\n",
       "      <td>54.233149</td>\n",
       "      <td>52.431737</td>\n",
       "      <td>59.450562</td>\n",
       "      <td>7.710419</td>\n",
       "      <td>0.573111</td>\n",
       "    </tr>\n",
       "    <tr>\n",
       "      <td>Zoniferol</td>\n",
       "      <td>53.236507</td>\n",
       "      <td>51.818479</td>\n",
       "      <td>48.533355</td>\n",
       "      <td>6.966589</td>\n",
       "      <td>0.516398</td>\n",
       "    </tr>\n",
       "  </tbody>\n",
       "</table>\n",
       "</div>"
      ],
      "text/plain": [
       "                   Mean     Median   Variance  Standard Deviation  \\\n",
       "Drug Regimen                                                        \n",
       "Capomulin     40.675741  41.557809  24.947764            4.994774   \n",
       "Ceftamin      52.591172  51.776157  39.290177            6.268188   \n",
       "Infubinol     52.884795  51.820584  43.128684            6.567243   \n",
       "Ketapril      55.235638  53.698743  68.553577            8.279709   \n",
       "Naftisol      54.331565  52.509285  66.173479            8.134708   \n",
       "Placebo       54.033581  52.288934  61.168083            7.821003   \n",
       "Propriva      52.322552  50.854632  42.351070            6.507770   \n",
       "Ramicane      40.216745  40.673236  23.486704            4.846308   \n",
       "Stelasyn      54.233149  52.431737  59.450562            7.710419   \n",
       "Zoniferol     53.236507  51.818479  48.533355            6.966589   \n",
       "\n",
       "              Standard Error of the Mean  \n",
       "Drug Regimen                              \n",
       "Capomulin                       0.329346  \n",
       "Ceftamin                        0.469821  \n",
       "Infubinol                       0.492236  \n",
       "Ketapril                        0.603860  \n",
       "Naftisol                        0.596466  \n",
       "Placebo                         0.581331  \n",
       "Propriva                        0.512884  \n",
       "Ramicane                        0.320955  \n",
       "Stelasyn                        0.573111  \n",
       "Zoniferol                       0.516398  "
      ]
     },
     "execution_count": 4,
     "metadata": {},
     "output_type": "execute_result"
    }
   ],
   "source": [
    "# Generate a summary statistics table of mean, median, variance, standard deviation, and SEM of the tumor volume for each regimen\n",
    "#combined_data.describe()\n",
    "\n",
    "#group by regimen and only select tumor volume and regimen in the table. Create a separate series for each summary statistic.\n",
    "\n",
    "\n",
    "# List the columns needed from combined_data for the table\n",
    "cols = [\"Drug Regimen\", \"Tumor Volume (mm3)\"]\n",
    "\n",
    "# Create a data series for each summary statistic\n",
    "Mean_Series = combined_data[cols]\n",
    "Median_Series = combined_data[cols]\n",
    "Variance_Series = combined_data[cols]\n",
    "SD_Series = combined_data[cols]\n",
    "SEM_Series = combined_data[cols]\n",
    "\n",
    "# Group each data series by regimen\n",
    "grouped_Mean = Mean_Series.groupby(\"Drug Regimen\")[\"Tumor Volume (mm3)\"].mean()\n",
    "grouped_Median = Median_Series.groupby(\"Drug Regimen\")[\"Tumor Volume (mm3)\"].median()\n",
    "grouped_Variance = Variance_Series.groupby(\"Drug Regimen\")[\"Tumor Volume (mm3)\"].var()\n",
    "grouped_SD = SD_Series.groupby(\"Drug Regimen\")[\"Tumor Volume (mm3)\"].std()\n",
    "grouped_SEM = SEM_Series.groupby(\"Drug Regimen\")[\"Tumor Volume (mm3)\"].sem()\n",
    "\n",
    "# Create a dataframe with all of the series\n",
    "df = pd.DataFrame(columns = ['Mean', 'Median', 'Variance', 'Standard Deviation', \"Standard Error of the Mean\"])\n",
    "df['Mean'] = grouped_Mean\n",
    "df['Median'] = grouped_Median\n",
    "df['Variance'] = grouped_Variance\n",
    "df['Standard Deviation'] = grouped_SD\n",
    "df[\"Standard Error of the Mean\"] = grouped_SEM\n",
    "df"
   ]
  },
  {
   "cell_type": "markdown",
   "metadata": {},
   "source": [
    "## Bar plots"
   ]
  },
  {
   "cell_type": "code",
   "execution_count": 5,
   "metadata": {},
   "outputs": [
    {
     "name": "stdout",
     "output_type": "stream",
     "text": [
      "AxesSubplot(0.125,0.125;0.775x0.755)\n"
     ]
    },
    {
     "data": {
      "image/png": "[encoded data removed]",
      "text/plain": [
       "<Figure size 432x288 with 1 Axes>"
      ]
     },
     "metadata": {
      "needs_background": "light"
     },
     "output_type": "display_data"
    }
   ],
   "source": [
    "# Generate a bar plot showing number of data points for each treatment regimen using pandas\n",
    "\n",
    "grouped_df = combined_data.groupby(\"Drug Regimen\", as_index = False)['Metastatic Sites'].count()\n",
    "sorted_df = grouped_df.sort_values(\"Metastatic Sites\", ascending = True)\n",
    "\n",
    "bar_graph = sorted_df.plot.barh(x='Drug Regimen', y='Metastatic Sites')\n",
    "bar_graph.set_xlabel(\"Number\")\n",
    "bar_graph.set_ylabel(\"Drug Regimen\")\n",
    "bar_graph.set_title(\"Number of Data Points for each Drug Regimen\")\n",
    "print(bar_graph)"
   ]
  },
  {
   "cell_type": "code",
   "execution_count": 6,
   "metadata": {},
   "outputs": [
    {
     "data": {
      "image/png": "[encoded data removed]",
      "text/plain": [
       "<Figure size 432x288 with 1 Axes>"
      ]
     },
     "metadata": {
      "needs_background": "light"
     },
     "output_type": "display_data"
    }
   ],
   "source": [
    "# Generate a bar plot showing number of data points for each treatment regimen using pyplot\n",
    "\n",
    "\n",
    "grouped_data= combined_data.groupby([\"Drug Regimen\"], as_index = False).count()\n",
    "sorted_data = grouped_data.sort_values(\"Metastatic Sites\", ascending = True)\n",
    "\n",
    "x_axis = sorted_data[\"Drug Regimen\"]\n",
    "y_axis = sorted_data[\"Metastatic Sites\"]\n",
    "\n",
    "\n",
    "plt.barh(x_axis, y_axis, alpha = .7)\n",
    "plt.ylabel('Drug Regimen')\n",
    "plt.xlabel('Number')\n",
    "plt.title('Number of Data Points for each Drug Regimen')\n",
    "plt.show()\n",
    "\n",
    "\n"
   ]
  },
  {
   "cell_type": "markdown",
   "metadata": {},
   "source": [
    "## Pie plots"
   ]
  },
  {
   "cell_type": "code",
   "execution_count": 7,
   "metadata": {},
   "outputs": [
    {
     "data": {
      "text/plain": [
       "Text(0.5, 1.0, 'Percent Male and Female in Study')"
      ]
     },
     "execution_count": 7,
     "metadata": {},
     "output_type": "execute_result"
    },
    {
     "data": {
      "image/png": "[encoded data removed]",
      "text/plain": [
       "<Figure size 360x360 with 1 Axes>"
      ]
     },
     "metadata": {},
     "output_type": "display_data"
    }
   ],
   "source": [
    "# Generate a pie plot showing the distribution of female versus male mice using pandas\n",
    "# Labels for the sections of our pie chart\n",
    "pie_data = combined_data.groupby(\"Sex\")[\"Weight (g)\"].count()\n",
    "pie_data\n",
    "\n",
    "\n",
    "plot = pie_data.plot.pie(y='Weight (g)', figsize=(5, 5), startangle = 90)\n",
    "plot.set_title(\"Percent Male and Female in Study\")"
   ]
  },
  {
   "cell_type": "code",
   "execution_count": 8,
   "metadata": {},
   "outputs": [
    {
     "data": {
      "image/png": "[encoded data removed]",
      "text/plain": [
       "<Figure size 432x288 with 1 Axes>"
      ]
     },
     "metadata": {},
     "output_type": "display_data"
    }
   ],
   "source": [
    "# Generate a pie plot showing the distribution of female versus male mice using pyplot\n",
    "\n",
    "# Labels for the sections of our pie chart\n",
    "labels = combined_data[\"Sex\"].unique()\n",
    "\n",
    "# Male and female data series\n",
    "cond1 = combined_data[\"Sex\"] == \"Male\"\n",
    "cond2 = combined_data[\"Sex\"] == \"Female\"\n",
    "\n",
    "Male_count = len((combined_data[cond1]))\n",
    "Female_count = len((combined_data[cond2]))\n",
    "\n",
    "# The values of each section of the pie chart\n",
    "values = [Female_count, Male_count]\n",
    "plt.pie(values, labels=labels, autopct=\"%1.0f%%\", \n",
    "        counterclock=True, startangle=90, wedgeprops={'alpha':0.5})\n",
    "\n",
    "# Tells matplotlib that we want a pie chart with equal axes\n",
    "plt.axis(\"equal\")\n",
    "plt.title(\"Percent Male and Female in Study\")\n",
    "\n",
    "plt.show()\n"
   ]
  },
  {
   "cell_type": "markdown",
   "metadata": {},
   "source": [
    "## Quartiles, outliers and boxplots"
   ]
  },
  {
   "cell_type": "code",
   "execution_count": 44,
   "metadata": {},
   "outputs": [
    {
     "name": "stderr",
     "output_type": "stream",
     "text": [
      "C:\\Users\\allys\\Anaconda3\\lib\\site-packages\\ipykernel_launcher.py:12: UserWarning: Boolean Series key will be reindexed to match DataFrame index.\n",
      "  if sys.path[0] == '':\n",
      "C:\\Users\\allys\\Anaconda3\\lib\\site-packages\\ipykernel_launcher.py:24: UserWarning: Boolean Series key will be reindexed to match DataFrame index.\n",
      "C:\\Users\\allys\\Anaconda3\\lib\\site-packages\\ipykernel_launcher.py:36: UserWarning: Boolean Series key will be reindexed to match DataFrame index.\n",
      "C:\\Users\\allys\\Anaconda3\\lib\\site-packages\\ipykernel_launcher.py:48: UserWarning: Boolean Series key will be reindexed to match DataFrame index.\n"
     ]
    },
    {
     "data": {
      "text/html": [
       "<div>\n",
       "<style scoped>\n",
       "    .dataframe tbody tr th:only-of-type {\n",
       "        vertical-align: middle;\n",
       "    }\n",
       "\n",
       "    .dataframe tbody tr th {\n",
       "        vertical-align: top;\n",
       "    }\n",
       "\n",
       "    .dataframe thead th {\n",
       "        text-align: right;\n",
       "    }\n",
       "</style>\n",
       "<table border=\"1\" class=\"dataframe\">\n",
       "  <thead>\n",
       "    <tr style=\"text-align: right;\">\n",
       "      <th></th>\n",
       "      <th>Capomulin</th>\n",
       "      <th>Ramicane</th>\n",
       "      <th>Infubinal</th>\n",
       "      <th>Ceftamin</th>\n",
       "    </tr>\n",
       "  </thead>\n",
       "  <tbody>\n",
       "    <tr>\n",
       "      <td>Lower Quartile</td>\n",
       "      <td>32.377357</td>\n",
       "      <td>30.981175</td>\n",
       "      <td>62.754451</td>\n",
       "      <td>61.433892</td>\n",
       "    </tr>\n",
       "    <tr>\n",
       "      <td>Upper Quartile</td>\n",
       "      <td>40.159220</td>\n",
       "      <td>38.508305</td>\n",
       "      <td>67.685569</td>\n",
       "      <td>67.527482</td>\n",
       "    </tr>\n",
       "    <tr>\n",
       "      <td>Inter Quartile Range</td>\n",
       "      <td>7.781863</td>\n",
       "      <td>7.527130</td>\n",
       "      <td>4.931117</td>\n",
       "      <td>6.093590</td>\n",
       "    </tr>\n",
       "  </tbody>\n",
       "</table>\n",
       "</div>"
      ],
      "text/plain": [
       "                      Capomulin   Ramicane  Infubinal   Ceftamin\n",
       "Lower Quartile        32.377357  30.981175  62.754451  61.433892\n",
       "Upper Quartile        40.159220  38.508305  67.685569  67.527482\n",
       "Inter Quartile Range   7.781863   7.527130   4.931117   6.093590"
      ]
     },
     "execution_count": 44,
     "metadata": {},
     "output_type": "execute_result"
    }
   ],
   "source": [
    "#Calculate the final tumor volume of each mouse across four of the most promising treatment regimens: \n",
    "#Capomulin, Ramicane, Infubinol, and Ceftamin.\n",
    "#Calculate the quartiles and IQR and quantitatively determine if there are any potential outliers \n",
    "#across all four treatment regimens.\n",
    "\n",
    "cond1 = combined_data[\"Timepoint\"] == 45\n",
    "\n",
    "#Capomulin\n",
    "\n",
    "#Capomulin dataframe\n",
    "data_capo = combined_data[combined_data['Drug Regimen'].isin(['Capomulin']) ]\n",
    "data_capo_finaltumor = data_capo[cond1]\n",
    "\n",
    "#Capomulin quartiles\n",
    "quartiles_capomulin = data_capo_finaltumor[\"Tumor Volume (mm3)\"].quantile([.25,.5,.75])\n",
    "capo_lowerq = quartiles_capomulin[0.25]\n",
    "capo_upperq = quartiles_capomulin[0.75]\n",
    "capo_iqr = capo_upperq-capo_lowerq\n",
    "\n",
    "#Ramicane\n",
    "\n",
    "#Ramicane dataframe\n",
    "data_ram = combined_data[combined_data['Drug Regimen'].isin(['Ramicane']) ]\n",
    "data_ram_finaltumor = data_ram[cond1]\n",
    "\n",
    "#Ramicane quartiles\n",
    "quartiles_ramicane = data_ram_finaltumor[\"Tumor Volume (mm3)\"].quantile([.25,.5,.75])\n",
    "ram_lowerq = quartiles_ramicane[0.25]\n",
    "ram_upperq = quartiles_ramicane[0.75]\n",
    "ram_iqr = ram_upperq-ram_lowerq\n",
    "\n",
    "#Infubinol\n",
    "\n",
    "#Infubinol dataframe\n",
    "data_infu = combined_data[combined_data['Drug Regimen'].isin(['Infubinol']) ]\n",
    "data_infu_finaltumor = data_infu[cond1]\n",
    "\n",
    "#Infubinol quartiles\n",
    "quartiles_Infubinol = data_infu_finaltumor[\"Tumor Volume (mm3)\"].quantile([.25,.5,.75])\n",
    "infu_lowerq = quartiles_Infubinol[0.25]\n",
    "infu_upperq = quartiles_Infubinol[0.75]\n",
    "infu_iqr = infu_upperq-infu_lowerq\n",
    "\n",
    "#Ceftamin\n",
    "\n",
    "#Ceftamin dataframe\n",
    "data_cef = combined_data[combined_data['Drug Regimen'].isin(['Ceftamin']) ]\n",
    "data_cef_finaltumor = data_cef[cond1]\n",
    "\n",
    "#Ceftamin quartiles\n",
    "quartiles_Ceftamin = data_cef_finaltumor[\"Tumor Volume (mm3)\"].quantile([.25,.5,.75])\n",
    "cef_lowerq = quartiles_Ceftamin[0.25]\n",
    "cef_upperq = quartiles_Ceftamin[0.75]\n",
    "cef_iqr = cef_upperq-cef_lowerq\n",
    "\n",
    "#Create a dataframe to store results\n",
    "capomulin_dict = {\"Lower Quartile\": capo_lowerq,\n",
    "                 \"Upper Quartile\": capo_upperq,\n",
    "                 \"Interquartile Range\": capo_iqr}\n",
    "\n",
    "ramicane_dict = {\"Lower Quartile\": ram_lowerq,\n",
    "                 \"Upper Quartile\": ram_upperq,\n",
    "                 \"Interquartile Range\": ram_iqr}\n",
    "\n",
    "infubinol_dict = {\"Lower Quartile\": infu_lowerq,\n",
    "                 \"Upper Quartile\": infu_upperq,\n",
    "                 \"Interquartile Range\": infu_iqr}\n",
    "\n",
    "ceftamin_dict = {\"Lower Quartile\": cef_lowerq,\n",
    "                 \"Upper Quartile\": cef_upperq,\n",
    "                 \"Interquartile Range\": cef_iqr}\n",
    "\n",
    "data = {'Lower Quartile': [capo_lowerq, ram_lowerq, infu_lowerq, cef_lowerq], \n",
    "        'Upper Quartile': [capo_upperq, ram_upperq, infu_upperq, cef_upperq],\n",
    "       'Inter Quartile Range': [capo_iqr, ram_iqr, infu_iqr, cef_iqr]}\n",
    "summary = pd.DataFrame.from_dict(data, orient='index')\n",
    "final_summary = summary.rename(columns={0: \"Capomulin\", 1: \"Ramicane\", 2: \"Infubinol\", 3: \"Ceftamin\"})\n",
    "final_summary"
   ]
  },
  {
   "cell_type": "code",
   "execution_count": 57,
   "metadata": {},
   "outputs": [
    {
     "data": {
      "image/png": "[encoded data removed]",
      "text/plain": [
       "<Figure size 432x288 with 1 Axes>"
      ]
     },
     "metadata": {
      "needs_background": "light"
     },
     "output_type": "display_data"
    },
    {
     "data": {
      "image/png": "[encoded data removed]",
      "text/plain": [
       "<Figure size 432x288 with 1 Axes>"
      ]
     },
     "metadata": {
      "needs_background": "light"
     },
     "output_type": "display_data"
    },
    {
     "data": {
      "image/png": "[encoded data removed]",
      "text/plain": [
       "<Figure size 432x288 with 1 Axes>"
      ]
     },
     "metadata": {
      "needs_background": "light"
     },
     "output_type": "display_data"
    },
    {
     "data": {
      "image/png": "[encoded data removed]",
      "text/plain": [
       "<Figure size 432x288 with 1 Axes>"
      ]
     },
     "metadata": {
      "needs_background": "light"
     },
     "output_type": "display_data"
    }
   ],
   "source": [
    "# Generate a box plot of the final tumor volume of each mouse across four regimens of interest\n",
    "\n",
    "#Capomulin\n",
    "\n",
    "plt.boxplot(data_capo_finaltumor[\"Tumor Volume (mm3)\"])\n",
    "plt.title('Final Tumor Volume')\n",
    "plt.ylabel('Tumor Volume (mm3)')\n",
    "plt.show()\n",
    "\n",
    "#Ramicane\n",
    "\n",
    "plt.boxplot(data_ram_finaltumor[\"Tumor Volume (mm3)\"])\n",
    "plt.title('Final Tumor Volume')\n",
    "plt.ylabel('Tumor Volume (mm3)')\n",
    "plt.show()\n",
    "\n",
    "#Infubinol\n",
    "\n",
    "plt.boxplot(data_infu_finaltumor[\"Tumor Volume (mm3)\"])\n",
    "plt.title('Final Tumor Volume')\n",
    "plt.ylabel('Tumor Volume (mm3)')\n",
    "plt.show()\n",
    "\n",
    "#Ceftamin\n",
    "\n",
    "plt.boxplot(data_cef_finaltumor[\"Tumor Volume (mm3)\"])\n",
    "plt.title('Final Tumor Volume')\n",
    "plt.ylabel('Tumor Volume (mm3)')\n",
    "plt.show()"
   ]
  },
  {
   "cell_type": "markdown",
   "metadata": {},
   "source": [
    "## Line and scatter plots"
   ]
  },
  {
   "cell_type": "code",
   "execution_count": 16,
   "metadata": {},
   "outputs": [
    {
     "name": "stderr",
     "output_type": "stream",
     "text": [
      "C:\\Users\\allys\\Anaconda3\\lib\\site-packages\\ipykernel_launcher.py:7: UserWarning: Boolean Series key will be reindexed to match DataFrame index.\n",
      "  import sys\n"
     ]
    },
    {
     "data": {
      "image/png": "[encoded data removed]",
      "text/plain": [
       "<Figure size 432x288 with 1 Axes>"
      ]
     },
     "metadata": {
      "needs_background": "light"
     },
     "output_type": "display_data"
    }
   ],
   "source": [
    "# Generate a line plot of time point versus tumor volume for a mouse treated with Capomulin\n",
    "\n",
    "#create a data frame for one mouse (k403) and only capomulin\n",
    "cond1 = combined_data[\"Drug Regimen\"] == \"Capomulin\" \n",
    "cond2 = combined_data[\"Mouse ID\"] == 's185' \n",
    "data_capomulin = combined_data[cond1]\n",
    "data_mouse = data_capomulin[cond2]\n",
    "data_mouse\n",
    "\n",
    "#make lists for variables\n",
    "data_time = data_mouse[\"Timepoint\"]\n",
    "data_volume = data_mouse[\"Tumor Volume (mm3)\"]\n",
    "\n",
    "fig = plt.figure()\n",
    "\n",
    "# Plot the chart\n",
    "plt.plot(data_time, data_volume, color=\"blue\", label=\"Tumor Volume\")\n",
    "\n",
    "# Add labels to X and Y axes & Add title\n",
    "plt.title(\"Tumor Volume Over Time\")\n",
    "plt.xlabel(\"Time Point\")\n",
    "plt.ylabel(\"Tumor Volume (mm3)\")\n",
    "plt.ylim(ymin=0)\n",
    "\n",
    "plt.show()"
   ]
  },
  {
   "cell_type": "code",
   "execution_count": 45,
   "metadata": {},
   "outputs": [
    {
     "data": {
      "image/png": "[encoded data removed]",
      "text/plain": [
       "<Figure size 432x288 with 1 Axes>"
      ]
     },
     "metadata": {
      "needs_background": "light"
     },
     "output_type": "display_data"
    }
   ],
   "source": [
    "# Generate a scatter plot of mouse weight versus average tumor volume for the Capomulin regimen\n",
    "\n",
    "#create a data frame for only capomulin\n",
    "cond1 = combined_data[\"Drug Regimen\"] == \"Capomulin\" \n",
    "data_capomulin = combined_data[cond1]\n",
    "data_capomulin\n",
    "\n",
    "#make lists for variables\n",
    "data_mouseweight = data_capomulin[\"Weight (g)\"]\n",
    "data_avgtumorvolume = data_capomulin[\"Tumor Volume (mm3)\"]\n",
    "\n",
    "plt.scatter(data_mouseweight, data_avgtumorvolume)\n",
    "plt.xlabel(\"Mouse Weight\")\n",
    "plt.ylabel(\"Avg Tumor Volume\")\n",
    "plt.title(\"Mouse Weight vs. Avg Tumor Volume for Capomulin Regimen\")\n",
    "plt.ylim(ymin=0)\n",
    "plt.xlim(xmin=0)\n",
    "plt.show()\n"
   ]
  },
  {
   "cell_type": "code",
   "execution_count": 46,
   "metadata": {},
   "outputs": [
    {
     "name": "stdout",
     "output_type": "stream",
     "text": [
      "rvalue    = 0.526\n",
      "r-squared = 0.276\n",
      "y = 1.0x + 21.5\n"
     ]
    },
    {
     "data": {
      "image/png": "[encoded data removed]",
      "text/plain": [
       "<Figure size 432x288 with 1 Axes>"
      ]
     },
     "metadata": {
      "needs_background": "light"
     },
     "output_type": "display_data"
    }
   ],
   "source": [
    "# Calculate the correlation coefficient and linear regression model \n",
    "#for mouse weight and average tumor volume for the Capomulin regimen\n",
    "\n",
    "x_values = data_mouseweight\n",
    "y_values = data_avgtumorvolume\n",
    "\n",
    "(slope, intercept, rvalue, pvalue, stderr) = st.linregress(x_values, y_values)\n",
    "\n",
    "regress_values = x_values * slope + intercept\n",
    "line_eq = \"y = \" + str(round(slope,1)) + \"x + \" + str(round(intercept,1))\n",
    "\n",
    "plt.scatter(x_values,y_values)\n",
    "plt.plot(x_values,regress_values,\"r-\")\n",
    "plt.annotate(line_eq,(6, 0),fontsize=15,color=\"red\")\n",
    "plt.ylim(ymin=0)\n",
    "plt.xlim(xmin=0)\n",
    "plt.xlabel('Mouse Weight')\n",
    "plt.ylabel(\"Average Tumor Volume\")\n",
    "plt.title(\"Mouse Weight vs. Avg Tumor Volume for Capomulin Regimen\")\n",
    "\n",
    "print(f\"rvalue    = {round(rvalue, 3)}\")\n",
    "print(f\"r-squared = {round(rvalue**2, 3)}\")\n",
    "print(line_eq)\n",
    "\n",
    "plt.show()\n"
   ]
  },
  {
   "cell_type": "code",
   "execution_count": null,
   "metadata": {},
   "outputs": [],
   "source": []
  }
 ],
 "metadata": {
  "anaconda-cloud": {},
  "kernelspec": {
   "display_name": "Python 3",
   "language": "python",
   "name": "python3"
  },
  "language_info": {
   "codemirror_mode": {
    "name": "ipython",
    "version": 3
   },
   "file_extension": ".py",
   "mimetype": "text/x-python",
   "name": "python",
   "nbconvert_exporter": "python",
   "pygments_lexer": "ipython3",
   "version": "3.7.4"
  }
 },
 "nbformat": 4,
 "nbformat_minor": 2
}
